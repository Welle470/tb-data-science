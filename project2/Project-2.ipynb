{
  "cells": [
    {
      "cell_type": "markdown",
      "id": "42289889-bd57-434e-9637-d3e354756316",
      "metadata": {
        "id": "42289889-bd57-434e-9637-d3e354756316"
      },
      "source": [
        "<center> <img src = https://raw.githubusercontent.com/AndreyRysistov/DatasetsForPandas/main/hh%20label.jpg alt=\"drawing\" style=\"width:400px;\">"
      ]
    },
    {
      "cell_type": "markdown",
      "id": "829cb75b-f14e-4ba8-9195-7ba929a7d656",
      "metadata": {
        "id": "829cb75b-f14e-4ba8-9195-7ba929a7d656",
        "tags": []
      },
      "source": [
        "# <center> Проект: Анализ вакансий из HeadHunter\n",
        "   "
      ]
    },
    {
      "cell_type": "code",
      "execution_count": 1,
      "id": "dccfde33-2452-43fb-a8a5-5c6ebc02a71d",
      "metadata": {
        "id": "dccfde33-2452-43fb-a8a5-5c6ebc02a71d"
      },
      "outputs": [],
      "source": [
        "import pandas as pd\n",
        "import psycopg2\n",
        "import plotly.express as px\n",
        "import matplotlib.pyplot as plt\n",
        "import seaborn as sns\n",
        "import requests\n",
        "from bs4 import BeautifulSoup\n",
        "import warnings\n",
        "warnings.filterwarnings('ignore')\n",
        "import requests\n",
        "import urllib.parse as req"
      ]
    },
    {
      "cell_type": "code",
      "execution_count": 3,
      "id": "G4X_q8KBf7SF",
      "metadata": {
        "id": "G4X_q8KBf7SF"
      },
      "outputs": [],
      "source": [
        "connection = psycopg2.connect(\n",
        "    dbname=DBNAME,\n",
        "    user=USER,\n",
        "    host=HOST,\n",
        "    password=PASSWORD,\n",
        "    port=PORT\n",
        ")"
      ]
    },
    {
      "cell_type": "markdown",
      "id": "0dc6476b-7a00-44f1-ac93-6e3baed33a29",
      "metadata": {
        "id": "0dc6476b-7a00-44f1-ac93-6e3baed33a29"
      },
      "source": [
        "# Юнит 3. Предварительный анализ данных"
      ]
    },
    {
      "cell_type": "markdown",
      "id": "889782b6-8d1c-410e-8920-e57f27917c64",
      "metadata": {
        "id": "889782b6-8d1c-410e-8920-e57f27917c64"
      },
      "source": [
        "1. Напишите запрос, который посчитает количество вакансий в нашей базе (вакансии находятся в таблице vacancies). "
      ]
    },
    {
      "cell_type": "code",
      "execution_count": 108,
      "id": "bc39e68e-ed02-4ee2-9235-7258a2f867a8",
      "metadata": {
        "id": "bc39e68e-ed02-4ee2-9235-7258a2f867a8"
      },
      "outputs": [],
      "source": [
        "query_3_1 = f'''\n",
        "            SELECT\n",
        "                COUNT(*)\n",
        "            FROM vacancies\n",
        "'''"
      ]
    },
    {
      "cell_type": "code",
      "execution_count": 109,
      "id": "7mAwtsk4hEHY",
      "metadata": {
        "id": "7mAwtsk4hEHY"
      },
      "outputs": [
        {
          "name": "stdout",
          "output_type": "stream",
          "text": [
            "В таблице Vacancies представлено 49197 вакансий.\n"
          ]
        }
      ],
      "source": [
        "df = pd.read_sql_query(query_3_1, connection)\n",
        "print(f\"В таблице Vacancies представлено {df['count'].iloc[0]} вакансий.\")"
      ]
    },
    {
      "cell_type": "markdown",
      "id": "b583485d-1f9e-494e-ada4-80ffff7c53d6",
      "metadata": {
        "id": "b583485d-1f9e-494e-ada4-80ffff7c53d6"
      },
      "source": [
        "2. Напишите запрос, который посчитает количество работодателей (таблица employers). "
      ]
    },
    {
      "cell_type": "code",
      "execution_count": 112,
      "id": "5408c52c-3407-4a63-b25b-1aafa2322d28",
      "metadata": {
        "id": "5408c52c-3407-4a63-b25b-1aafa2322d28"
      },
      "outputs": [],
      "source": [
        "query_3_2 = f'''\n",
        "            SELECT\n",
        "                COUNT(*)\n",
        "            FROM employers\n",
        "'''"
      ]
    },
    {
      "cell_type": "code",
      "execution_count": 116,
      "id": "jVL4eshKhdqc",
      "metadata": {
        "id": "jVL4eshKhdqc"
      },
      "outputs": [
        {
          "name": "stdout",
          "output_type": "stream",
          "text": [
            "В таблице Employers 23501 работодатель.\n"
          ]
        }
      ],
      "source": [
        "df = pd.read_sql_query(query_3_2, connection)\n",
        "print(f\"В таблице Employers {df['count'].iloc[0]} работодатель.\")"
      ]
    },
    {
      "cell_type": "markdown",
      "id": "a2bfff1f-c975-4bf6-84be-2185d79dcb76",
      "metadata": {
        "id": "a2bfff1f-c975-4bf6-84be-2185d79dcb76"
      },
      "source": [
        "3. Посчитате с помощью запроса количество регионов (таблица areas)."
      ]
    },
    {
      "cell_type": "code",
      "execution_count": 117,
      "id": "1m8QJwBYhey6",
      "metadata": {
        "id": "1m8QJwBYhey6"
      },
      "outputs": [],
      "source": [
        "query_3_3 = f'''\n",
        "            SELECT \n",
        "                COUNT(*)\n",
        "            FROM areas\n",
        "'''"
      ]
    },
    {
      "cell_type": "code",
      "execution_count": 119,
      "id": "EZsn9tlfhe7f",
      "metadata": {
        "id": "EZsn9tlfhe7f"
      },
      "outputs": [
        {
          "name": "stdout",
          "output_type": "stream",
          "text": [
            "В таблице Areas 1362 региона.\n"
          ]
        }
      ],
      "source": [
        "df = pd.read_sql_query(query_3_3, connection)\n",
        "print(f\"В таблице Areas {df['count'].iloc[0]} региона.\")"
      ]
    },
    {
      "cell_type": "markdown",
      "id": "41bb59f3-53cc-4a67-a5bc-bedf573955e4",
      "metadata": {
        "id": "41bb59f3-53cc-4a67-a5bc-bedf573955e4"
      },
      "source": [
        "4. Посчитате с помощью запроса количество сфер деятельности в базе (таблица industries)."
      ]
    },
    {
      "cell_type": "code",
      "execution_count": 120,
      "id": "d286cf4c-707b-4cd2-9190-7ab3587d04a1",
      "metadata": {
        "id": "d286cf4c-707b-4cd2-9190-7ab3587d04a1"
      },
      "outputs": [],
      "source": [
        "query_3_4 = f'''\n",
        "            SELECT \n",
        "                COUNT(*)\n",
        "            FROM industries\n",
        "'''"
      ]
    },
    {
      "cell_type": "code",
      "execution_count": 121,
      "id": "JYAaoZ4qhfzW",
      "metadata": {
        "id": "JYAaoZ4qhfzW"
      },
      "outputs": [
        {
          "name": "stdout",
          "output_type": "stream",
          "text": [
            "В таблице Industries 294 сферы деятельности.\n"
          ]
        }
      ],
      "source": [
        "df = pd.read_sql_query(query_3_4, connection)\n",
        "print(f\"В таблице Industries {df['count'].iloc[0]} сферы деятельности.\")"
      ]
    },
    {
      "cell_type": "markdown",
      "id": "9a8a2181-6914-448b-85f1-38f5f18b8a93",
      "metadata": {
        "id": "9a8a2181-6914-448b-85f1-38f5f18b8a93"
      },
      "source": [
        "***"
      ]
    },
    {
      "attachments": {},
      "cell_type": "markdown",
      "id": "0b732e9d",
      "metadata": {},
      "source": [
        "ВЫВОДЫ: \n",
        "* База данных представляет собой набор из пяти таблиц, некоторые связаны между собой по ключам\n",
        "* Таблица Vacancies имеет наибольшее число признаков\n",
        "* В таблица Indusrties представленно наименьшее количество признаков\n",
        "* На каждого работодателя приходится примерно по две вакансии"
      ]
    },
    {
      "cell_type": "markdown",
      "id": "8d62a9f3-f64e-4fe7-bdac-c4dffa16155e",
      "metadata": {
        "id": "8d62a9f3-f64e-4fe7-bdac-c4dffa16155e"
      },
      "source": [
        "# Юнит 4. Детальный анализ вакансий"
      ]
    },
    {
      "cell_type": "markdown",
      "id": "93053d3d-b284-481a-9cf7-012d7014c0e0",
      "metadata": {
        "id": "93053d3d-b284-481a-9cf7-012d7014c0e0"
      },
      "source": [
        "1. Напишите запрос, который позволит узнать, сколько (cnt) вакансий в каждом регионе (area).\n",
        "Отсортируйте по количеству вакансий в порядке убывания."
      ]
    },
    {
      "cell_type": "code",
      "execution_count": 122,
      "id": "3f069da6-fdc9-4ae7-b514-fafe2675efd3",
      "metadata": {
        "id": "3f069da6-fdc9-4ae7-b514-fafe2675efd3"
      },
      "outputs": [],
      "source": [
        "query_4_1 = f'''\n",
        "            SELECT\n",
        "                a.name area,\n",
        "                COUNT(*)\n",
        "            FROM vacancies v\n",
        "            LEFT JOIN areas a ON v.area_id = a.id\n",
        "            GROUP BY 1\n",
        "            ORDER BY 2 DESC\n",
        "            LIMIT 5\n",
        "'''"
      ]
    },
    {
      "cell_type": "code",
      "execution_count": 123,
      "id": "399e921f",
      "metadata": {},
      "outputs": [
        {
          "data": {
            "text/html": [
              "<div>\n",
              "<style scoped>\n",
              "    .dataframe tbody tr th:only-of-type {\n",
              "        vertical-align: middle;\n",
              "    }\n",
              "\n",
              "    .dataframe tbody tr th {\n",
              "        vertical-align: top;\n",
              "    }\n",
              "\n",
              "    .dataframe thead th {\n",
              "        text-align: right;\n",
              "    }\n",
              "</style>\n",
              "<table border=\"1\" class=\"dataframe\">\n",
              "  <thead>\n",
              "    <tr style=\"text-align: right;\">\n",
              "      <th></th>\n",
              "      <th>area</th>\n",
              "      <th>count</th>\n",
              "    </tr>\n",
              "  </thead>\n",
              "  <tbody>\n",
              "    <tr>\n",
              "      <th>0</th>\n",
              "      <td>Москва</td>\n",
              "      <td>5333</td>\n",
              "    </tr>\n",
              "    <tr>\n",
              "      <th>1</th>\n",
              "      <td>Санкт-Петербург</td>\n",
              "      <td>2851</td>\n",
              "    </tr>\n",
              "    <tr>\n",
              "      <th>2</th>\n",
              "      <td>Минск</td>\n",
              "      <td>2112</td>\n",
              "    </tr>\n",
              "    <tr>\n",
              "      <th>3</th>\n",
              "      <td>Новосибирск</td>\n",
              "      <td>2006</td>\n",
              "    </tr>\n",
              "    <tr>\n",
              "      <th>4</th>\n",
              "      <td>Алматы</td>\n",
              "      <td>1892</td>\n",
              "    </tr>\n",
              "  </tbody>\n",
              "</table>\n",
              "</div>"
            ],
            "text/plain": [
              "              area  count\n",
              "0           Москва   5333\n",
              "1  Санкт-Петербург   2851\n",
              "2            Минск   2112\n",
              "3      Новосибирск   2006\n",
              "4           Алматы   1892"
            ]
          },
          "execution_count": 123,
          "metadata": {},
          "output_type": "execute_result"
        }
      ],
      "source": [
        "df = pd.read_sql_query(query_4_1, connection)\n",
        "df"
      ]
    },
    {
      "cell_type": "code",
      "execution_count": 124,
      "id": "P7QL86hrjhRJ",
      "metadata": {
        "id": "P7QL86hrjhRJ"
      },
      "outputs": [
        {
          "data": {
            "image/png": "[encoded data removed]",
            "text/plain": [
              "<Figure size 1000x700 with 1 Axes>"
            ]
          },
          "metadata": {},
          "output_type": "display_data"
        }
      ],
      "source": [
        "fig = plt.figure(figsize = (10, 7))\n",
        "\n",
        "barplot = sns.barplot(\n",
        "    data = df,\n",
        "    x = 'area',\n",
        "    y = 'count'\n",
        ")\n",
        "barplot.set_title('Количество вакансий в каждом регионе ТОП-5')\n",
        "barplot.bar_label(barplot.containers[0])\n",
        "barplot.set (xlabel='Регион', ylabel='Количество вакансий');"
      ]
    },
    {
      "cell_type": "markdown",
      "id": "4266f0b6-1646-492a-88b4-2f6a46502135",
      "metadata": {
        "id": "4266f0b6-1646-492a-88b4-2f6a46502135"
      },
      "source": [
        "2. Напишите запрос, чтобы определить у какого количества вакансий заполнено хотя бы одно из двух полей с зарплатой."
      ]
    },
    {
      "cell_type": "code",
      "execution_count": 125,
      "id": "0c44b350-72eb-4d65-8b54-a1fc449ba9fd",
      "metadata": {
        "id": "0c44b350-72eb-4d65-8b54-a1fc449ba9fd"
      },
      "outputs": [],
      "source": [
        "query_4_2 = f'''\n",
        "            SELECT\n",
        "                COUNT(name)\n",
        "            FROM vacancies \n",
        "            WHERE salary_from IS NOT NULL \n",
        "                OR salary_to IS NOT NULL     \n",
        "'''"
      ]
    },
    {
      "cell_type": "code",
      "execution_count": 126,
      "id": "rhvwaMDkoWTi",
      "metadata": {
        "id": "rhvwaMDkoWTi"
      },
      "outputs": [
        {
          "name": "stdout",
          "output_type": "stream",
          "text": [
            "У вакансий в количестве 24073 заполнено одно из двух полей с зарплатой.\n"
          ]
        }
      ],
      "source": [
        "df = pd.read_sql_query(query_4_2, connection)\n",
        "print(f\"У вакансий в количестве {df['count'].iloc[0]} заполнено одно из двух полей с зарплатой.\")"
      ]
    },
    {
      "cell_type": "markdown",
      "id": "635c4d5d-f323-4c66-b428-50a088120aa0",
      "metadata": {
        "id": "635c4d5d-f323-4c66-b428-50a088120aa0"
      },
      "source": [
        "3. Найдите средние значения для нижней и верхней границы зарплатной вилки. Округлите значения до целого."
      ]
    },
    {
      "cell_type": "code",
      "execution_count": 127,
      "id": "603cdbe4-0ec3-4106-8eaf-c73fcdd29165",
      "metadata": {
        "id": "603cdbe4-0ec3-4106-8eaf-c73fcdd29165"
      },
      "outputs": [],
      "source": [
        "query_4_3 = f'''\n",
        "            SELECT\n",
        "               AVG(salary_from) low,\n",
        "               AVG(salary_to) high\n",
        "            FROM vacancies    \n",
        "'''"
      ]
    },
    {
      "cell_type": "code",
      "execution_count": 129,
      "id": "pswpAb66ovZZ",
      "metadata": {
        "id": "pswpAb66ovZZ"
      },
      "outputs": [
        {
          "name": "stdout",
          "output_type": "stream",
          "text": [
            "Средняя зарплата для нижней зарплатной вилки - 71065 рублей.\n",
            "Cредняя зарплата для верхней зарплатной вилки - 110537 рублей.\n"
          ]
        }
      ],
      "source": [
        "df = pd.read_sql_query(query_4_3, connection)\n",
        "print(f\"Средняя зарплата для нижней зарплатной вилки - {round(df['low'].iloc[0])} рублей.\")\n",
        "print(f\"Cредняя зарплата для верхней зарплатной вилки - {round(df['high'].iloc[0])} рублей.\")"
      ]
    },
    {
      "cell_type": "markdown",
      "id": "f3fdaec9-5fd3-4260-9cf5-1d7406b628a5",
      "metadata": {
        "id": "f3fdaec9-5fd3-4260-9cf5-1d7406b628a5"
      },
      "source": [
        "4. Напишите запрос, который выведет количество вакансий для каждого сочетания типа рабочего графика (schedule) и типа трудоустройства (employment), используемого в вакансиях. Результат отсортируйте по убыванию количества.\n"
      ]
    },
    {
      "cell_type": "code",
      "execution_count": 131,
      "id": "1ea710ec-871b-431e-9462-c7d0fd87011b",
      "metadata": {
        "id": "1ea710ec-871b-431e-9462-c7d0fd87011b"
      },
      "outputs": [],
      "source": [
        "query_4_4 = f'''\n",
        "            SELECT\n",
        "                COUNT(*) cnt,\n",
        "                schedule,\n",
        "                employment\n",
        "            FROM vacancies  \n",
        "            GROUP BY 2, 3\n",
        "            ORDER BY 1 DESC\n",
        "            OFFSET 1 LIMIT 1 \n",
        "'''"
      ]
    },
    {
      "cell_type": "code",
      "execution_count": 132,
      "id": "lGUVqavdo4JQ",
      "metadata": {
        "id": "lGUVqavdo4JQ"
      },
      "outputs": [
        {
          "name": "stdout",
          "output_type": "stream",
          "text": [
            "Для каждого сочетания типа рабочего графика и типа трудоустройства 7802 вакансии.\n"
          ]
        },
        {
          "data": {
            "text/html": [
              "<div>\n",
              "<style scoped>\n",
              "    .dataframe tbody tr th:only-of-type {\n",
              "        vertical-align: middle;\n",
              "    }\n",
              "\n",
              "    .dataframe tbody tr th {\n",
              "        vertical-align: top;\n",
              "    }\n",
              "\n",
              "    .dataframe thead th {\n",
              "        text-align: right;\n",
              "    }\n",
              "</style>\n",
              "<table border=\"1\" class=\"dataframe\">\n",
              "  <thead>\n",
              "    <tr style=\"text-align: right;\">\n",
              "      <th></th>\n",
              "      <th>cnt</th>\n",
              "      <th>schedule</th>\n",
              "      <th>employment</th>\n",
              "    </tr>\n",
              "  </thead>\n",
              "  <tbody>\n",
              "    <tr>\n",
              "      <th>0</th>\n",
              "      <td>7802</td>\n",
              "      <td>Удаленная работа</td>\n",
              "      <td>Полная занятость</td>\n",
              "    </tr>\n",
              "  </tbody>\n",
              "</table>\n",
              "</div>"
            ],
            "text/plain": [
              "    cnt          schedule        employment\n",
              "0  7802  Удаленная работа  Полная занятость"
            ]
          },
          "execution_count": 132,
          "metadata": {},
          "output_type": "execute_result"
        }
      ],
      "source": [
        "df = pd.read_sql_query(query_4_4, connection)\n",
        "print(f\"Для каждого сочетания типа рабочего графика и типа трудоустройства {df['cnt'].iloc[0]} вакансии.\")\n",
        "df"
      ]
    },
    {
      "cell_type": "markdown",
      "id": "0136ffee-0ead-4a6b-b608-61d1c753a438",
      "metadata": {
        "id": "0136ffee-0ead-4a6b-b608-61d1c753a438"
      },
      "source": [
        "5. Напишите запрос, выводящий значения поля Требуемый опыт работы (experience) в порядке возрастания количества вакансий, в которых указан данный вариант опыта. "
      ]
    },
    {
      "cell_type": "code",
      "execution_count": 133,
      "id": "5b3a8e79-f7ab-4008-b767-12aea3a205ea",
      "metadata": {
        "id": "5b3a8e79-f7ab-4008-b767-12aea3a205ea"
      },
      "outputs": [],
      "source": [
        "query_4_5 = f'''\n",
        "            SELECT\n",
        "                experience,\n",
        "                COUNT(*)\n",
        "            FROM vacancies  \n",
        "            GROUP BY 1\n",
        "            ORDER BY 2\n",
        "'''"
      ]
    },
    {
      "cell_type": "code",
      "execution_count": 134,
      "id": "3Is64Y-hpDpq",
      "metadata": {
        "id": "3Is64Y-hpDpq"
      },
      "outputs": [
        {
          "data": {
            "text/html": [
              "<div>\n",
              "<style scoped>\n",
              "    .dataframe tbody tr th:only-of-type {\n",
              "        vertical-align: middle;\n",
              "    }\n",
              "\n",
              "    .dataframe tbody tr th {\n",
              "        vertical-align: top;\n",
              "    }\n",
              "\n",
              "    .dataframe thead th {\n",
              "        text-align: right;\n",
              "    }\n",
              "</style>\n",
              "<table border=\"1\" class=\"dataframe\">\n",
              "  <thead>\n",
              "    <tr style=\"text-align: right;\">\n",
              "      <th></th>\n",
              "      <th>experience</th>\n",
              "      <th>count</th>\n",
              "    </tr>\n",
              "  </thead>\n",
              "  <tbody>\n",
              "    <tr>\n",
              "      <th>0</th>\n",
              "      <td>Более 6 лет</td>\n",
              "      <td>1337</td>\n",
              "    </tr>\n",
              "    <tr>\n",
              "      <th>1</th>\n",
              "      <td>Нет опыта</td>\n",
              "      <td>7197</td>\n",
              "    </tr>\n",
              "    <tr>\n",
              "      <th>2</th>\n",
              "      <td>От 3 до 6 лет</td>\n",
              "      <td>14511</td>\n",
              "    </tr>\n",
              "    <tr>\n",
              "      <th>3</th>\n",
              "      <td>От 1 года до 3 лет</td>\n",
              "      <td>26152</td>\n",
              "    </tr>\n",
              "  </tbody>\n",
              "</table>\n",
              "</div>"
            ],
            "text/plain": [
              "           experience  count\n",
              "0         Более 6 лет   1337\n",
              "1           Нет опыта   7197\n",
              "2       От 3 до 6 лет  14511\n",
              "3  От 1 года до 3 лет  26152"
            ]
          },
          "execution_count": 134,
          "metadata": {},
          "output_type": "execute_result"
        }
      ],
      "source": [
        "df = pd.read_sql_query(query_4_5, connection)\n",
        "df"
      ]
    },
    {
      "cell_type": "code",
      "execution_count": 135,
      "id": "ab94456b",
      "metadata": {},
      "outputs": [
        {
          "data": {
            "image/png": "[encoded data removed]",
            "text/plain": [
              "<Figure size 900x600 with 1 Axes>"
            ]
          },
          "metadata": {},
          "output_type": "display_data"
        }
      ],
      "source": [
        "fig = plt.figure(figsize = (9, 6))\n",
        "\n",
        "barplot = sns.barplot(\n",
        "    data = df,\n",
        "    x = 'experience',\n",
        "    y = 'count'\n",
        ")\n",
        "barplot.set_title('Требуемый рабочий опыт в порядке возрастания количества вакансий')\n",
        "barplot.bar_label(barplot.containers[0])\n",
        "barplot.set (xlabel='Требуемый опыт работы', ylabel='Количество вакансий');"
      ]
    },
    {
      "cell_type": "markdown",
      "id": "oq2b7n1QpIka",
      "metadata": {
        "id": "oq2b7n1QpIka"
      },
      "source": [
        "***"
      ]
    },
    {
      "attachments": {},
      "cell_type": "markdown",
      "id": "3529d383",
      "metadata": {},
      "source": [
        "ВЫВОДЫ:\n",
        "* По детальному анализу данных можно сделать вывод, что большинство вакансий представлены в крупных городах: Москва, Санкт-Петербург, Минск, Новосибирск, Алматы и тд. Так же вакансии представлены не только по России, но и по другим странам СНГ, например, Беларусь и др. \n",
        "* Меньше, чем в половине случаев работодатели не указывают минимальную или максимальную заработную плату. Можно предположить, что этот вопрос обсуждается непосредственно на собеседовании лично.\n",
        "* На первом месте количество вакансий по требуемому опыту работы в категории от 1 года до 3 лет, минимальные предложения для требуемого опыта более 6 лет."
      ]
    },
    {
      "cell_type": "markdown",
      "id": "7ea20ab6-04a7-40a0-adec-443a0e5a42c3",
      "metadata": {
        "id": "7ea20ab6-04a7-40a0-adec-443a0e5a42c3"
      },
      "source": [
        "# Юнит 5. Анализ работодателей"
      ]
    },
    {
      "cell_type": "markdown",
      "id": "968aed80-74ef-4ffb-b5bf-c65b84e9caea",
      "metadata": {
        "id": "968aed80-74ef-4ffb-b5bf-c65b84e9caea"
      },
      "source": [
        "1. Напишите запрос, который позволит узнать, какие работодатели находятся на первом и пятом месте по количеству вакансий."
      ]
    },
    {
      "cell_type": "code",
      "execution_count": 136,
      "id": "f2d62796-d400-4ec1-a675-88112739a50e",
      "metadata": {
        "id": "f2d62796-d400-4ec1-a675-88112739a50e"
      },
      "outputs": [],
      "source": [
        "query_5_1 = f'''\n",
        "            (SELECT\n",
        "                e.name,\n",
        "                COUNT(*)\n",
        "            FROM vacancies v\n",
        "            JOIN employers e ON e.id = v.employer_id\n",
        "            GROUP BY 1\n",
        "            ORDER BY 2 DESC\n",
        "            LIMIT 1\n",
        "            )\n",
        "            \n",
        "            UNION ALL\n",
        "            \n",
        "            (SELECT\n",
        "                e.name,\n",
        "                COUNT(*)\n",
        "            FROM vacancies v\n",
        "            JOIN employers e ON e.id = v.employer_id\n",
        "            GROUP BY 1\n",
        "            ORDER BY 2 DESC\n",
        "            OFFSET 4 LIMIT 1\n",
        "            )            \n",
        "'''"
      ]
    },
    {
      "cell_type": "code",
      "execution_count": 137,
      "id": "64tOMkAxqkQk",
      "metadata": {
        "id": "64tOMkAxqkQk"
      },
      "outputs": [
        {
          "name": "stdout",
          "output_type": "stream",
          "text": [
            "На первом месте работодатель 'Яндекс' по количеству вакансий - 1933.\n",
            "На пятом месте работодатель 'Газпром нефть' по количеству вакансий - 331.\n"
          ]
        },
        {
          "data": {
            "text/html": [
              "<div>\n",
              "<style scoped>\n",
              "    .dataframe tbody tr th:only-of-type {\n",
              "        vertical-align: middle;\n",
              "    }\n",
              "\n",
              "    .dataframe tbody tr th {\n",
              "        vertical-align: top;\n",
              "    }\n",
              "\n",
              "    .dataframe thead th {\n",
              "        text-align: right;\n",
              "    }\n",
              "</style>\n",
              "<table border=\"1\" class=\"dataframe\">\n",
              "  <thead>\n",
              "    <tr style=\"text-align: right;\">\n",
              "      <th></th>\n",
              "      <th>name</th>\n",
              "      <th>count</th>\n",
              "    </tr>\n",
              "  </thead>\n",
              "  <tbody>\n",
              "    <tr>\n",
              "      <th>0</th>\n",
              "      <td>Яндекс</td>\n",
              "      <td>1933</td>\n",
              "    </tr>\n",
              "    <tr>\n",
              "      <th>1</th>\n",
              "      <td>Газпром нефть</td>\n",
              "      <td>331</td>\n",
              "    </tr>\n",
              "  </tbody>\n",
              "</table>\n",
              "</div>"
            ],
            "text/plain": [
              "            name  count\n",
              "0         Яндекс   1933\n",
              "1  Газпром нефть    331"
            ]
          },
          "execution_count": 137,
          "metadata": {},
          "output_type": "execute_result"
        }
      ],
      "source": [
        "df = pd.read_sql_query(query_5_1, connection)\n",
        "print(f\"На первом месте работодатель '{df['name'].iloc[0]}' по количеству вакансий - {df['count'].iloc[0]}.\")\n",
        "print(f\"На пятом месте работодатель '{df['name'].iloc[1]}' по количеству вакансий - {df['count'].iloc[1]}.\")\n",
        "df"
      ]
    },
    {
      "cell_type": "markdown",
      "id": "68377cfc-b378-43dc-ab7d-1195abf2c515",
      "metadata": {
        "id": "68377cfc-b378-43dc-ab7d-1195abf2c515"
      },
      "source": [
        "2. Напишите запрос, который для каждого региона выведет количество работодателей и вакансий в нём.\n",
        "Среди регионов, в которых нет вакансий, найдите тот, в котором наибольшее количество работодателей.\n"
      ]
    },
    {
      "cell_type": "code",
      "execution_count": 138,
      "id": "dd7df27a-e3e8-412e-a21a-5d389b71e891",
      "metadata": {
        "id": "dd7df27a-e3e8-412e-a21a-5d389b71e891"
      },
      "outputs": [],
      "source": [
        "query_5_2 = f'''\n",
        "            SELECT\n",
        "                a.name region,\n",
        "                COUNT(e.id) cnt_employers,\n",
        "                COUNT(v.id) cnt_vacancies\n",
        "            FROM areas a\n",
        "            LEFT JOIN vacancies v ON v.area_id = a.id\n",
        "            LEFT JOIN employers e ON a.id = e.area\n",
        "            WHERE v.name IS NULL\n",
        "            GROUP BY 1\n",
        "            ORDER BY 2 DESC\n",
        "            LIMIT 1\n",
        "'''"
      ]
    },
    {
      "cell_type": "code",
      "execution_count": 139,
      "id": "x1ikWbydrbf6",
      "metadata": {
        "id": "x1ikWbydrbf6"
      },
      "outputs": [
        {
          "name": "stdout",
          "output_type": "stream",
          "text": [
            "В регионе 'Россия' нет вакансии, но наибольшее количество работадателей - 410.\n"
          ]
        },
        {
          "data": {
            "text/html": [
              "<div>\n",
              "<style scoped>\n",
              "    .dataframe tbody tr th:only-of-type {\n",
              "        vertical-align: middle;\n",
              "    }\n",
              "\n",
              "    .dataframe tbody tr th {\n",
              "        vertical-align: top;\n",
              "    }\n",
              "\n",
              "    .dataframe thead th {\n",
              "        text-align: right;\n",
              "    }\n",
              "</style>\n",
              "<table border=\"1\" class=\"dataframe\">\n",
              "  <thead>\n",
              "    <tr style=\"text-align: right;\">\n",
              "      <th></th>\n",
              "      <th>region</th>\n",
              "      <th>cnt_employers</th>\n",
              "      <th>cnt_vacancies</th>\n",
              "    </tr>\n",
              "  </thead>\n",
              "  <tbody>\n",
              "    <tr>\n",
              "      <th>0</th>\n",
              "      <td>Россия</td>\n",
              "      <td>410</td>\n",
              "      <td>0</td>\n",
              "    </tr>\n",
              "  </tbody>\n",
              "</table>\n",
              "</div>"
            ],
            "text/plain": [
              "   region  cnt_employers  cnt_vacancies\n",
              "0  Россия            410              0"
            ]
          },
          "execution_count": 139,
          "metadata": {},
          "output_type": "execute_result"
        }
      ],
      "source": [
        "df = pd.read_sql_query(query_5_2, connection)\n",
        "print(f\"В регионе '{df['region'].iloc[0]}' нет вакансии, но наибольшее количество работадателей - {df['cnt_employers'].iloc[0]}.\")\n",
        "df"
      ]
    },
    {
      "cell_type": "markdown",
      "id": "f2fe0acb-ab1a-4e15-9326-2560e22d73c1",
      "metadata": {
        "id": "f2fe0acb-ab1a-4e15-9326-2560e22d73c1"
      },
      "source": [
        "3. Для каждого работодателя посчитайте количество регионов, в которых он публикует свои вакансии. Отсортируйте результат по убыванию количества.\n"
      ]
    },
    {
      "cell_type": "code",
      "execution_count": 59,
      "id": "6271f8ad-bd2e-4196-ae4a-5b39c4c1010e",
      "metadata": {
        "id": "6271f8ad-bd2e-4196-ae4a-5b39c4c1010e"
      },
      "outputs": [],
      "source": [
        "query_5_3 = f'''\n",
        "            SELECT\n",
        "                e.name employer,\n",
        "                COUNT(DISTINCT v.area_id) cnt_areas\n",
        "            FROM employers e\n",
        "            JOIN areas a ON a.id = e.area\n",
        "            JOIN vacancies v ON v.employer_id = e.id\n",
        "            GROUP BY 1\n",
        "            ORDER BY 2 DESC\n",
        "            LIMIT 5\n",
        "'''"
      ]
    },
    {
      "cell_type": "code",
      "execution_count": 140,
      "id": "1EIvX3HasH4F",
      "metadata": {
        "id": "1EIvX3HasH4F"
      },
      "outputs": [
        {
          "data": {
            "text/html": [
              "<div>\n",
              "<style scoped>\n",
              "    .dataframe tbody tr th:only-of-type {\n",
              "        vertical-align: middle;\n",
              "    }\n",
              "\n",
              "    .dataframe tbody tr th {\n",
              "        vertical-align: top;\n",
              "    }\n",
              "\n",
              "    .dataframe thead th {\n",
              "        text-align: right;\n",
              "    }\n",
              "</style>\n",
              "<table border=\"1\" class=\"dataframe\">\n",
              "  <thead>\n",
              "    <tr style=\"text-align: right;\">\n",
              "      <th></th>\n",
              "      <th>employer</th>\n",
              "      <th>cnt_areas</th>\n",
              "    </tr>\n",
              "  </thead>\n",
              "  <tbody>\n",
              "    <tr>\n",
              "      <th>0</th>\n",
              "      <td>Яндекс</td>\n",
              "      <td>181</td>\n",
              "    </tr>\n",
              "    <tr>\n",
              "      <th>1</th>\n",
              "      <td>Ростелеком</td>\n",
              "      <td>152</td>\n",
              "    </tr>\n",
              "    <tr>\n",
              "      <th>2</th>\n",
              "      <td>Спецремонт</td>\n",
              "      <td>116</td>\n",
              "    </tr>\n",
              "    <tr>\n",
              "      <th>3</th>\n",
              "      <td>Поляков Денис Иванович</td>\n",
              "      <td>88</td>\n",
              "    </tr>\n",
              "    <tr>\n",
              "      <th>4</th>\n",
              "      <td>ООО ЕФИН</td>\n",
              "      <td>71</td>\n",
              "    </tr>\n",
              "  </tbody>\n",
              "</table>\n",
              "</div>"
            ],
            "text/plain": [
              "                 employer  cnt_areas\n",
              "0                  Яндекс        181\n",
              "1              Ростелеком        152\n",
              "2              Спецремонт        116\n",
              "3  Поляков Денис Иванович         88\n",
              "4               ООО ЕФИН          71"
            ]
          },
          "execution_count": 140,
          "metadata": {},
          "output_type": "execute_result"
        }
      ],
      "source": [
        "df = pd.read_sql_query(query_5_3, connection)\n",
        "df"
      ]
    },
    {
      "cell_type": "code",
      "execution_count": 141,
      "id": "e4038bb4",
      "metadata": {},
      "outputs": [
        {
          "data": {
            "image/png": "[encoded data removed]",
            "text/plain": [
              "<Figure size 900x600 with 1 Axes>"
            ]
          },
          "metadata": {},
          "output_type": "display_data"
        }
      ],
      "source": [
        "fig = plt.figure(figsize = (9, 6))\n",
        "\n",
        "barplot = sns.barplot(\n",
        "    data = df,\n",
        "    x = 'cnt_areas',\n",
        "    y = 'employer'\n",
        ")\n",
        "barplot.set_title('Количество регионов для каждого работодателя, в которых он публикует свои вакансии')\n",
        "barplot.bar_label(barplot.containers[0])\n",
        "barplot.set (xlabel='Количество регионов', ylabel='Работодатель');"
      ]
    },
    {
      "cell_type": "markdown",
      "id": "eab2206d-d95b-468b-8e5f-34381abf0ce7",
      "metadata": {
        "id": "eab2206d-d95b-468b-8e5f-34381abf0ce7"
      },
      "source": [
        "4. Напишите запрос для подсчёта количества работодателей, у которых не указана сфера деятельности. "
      ]
    },
    {
      "cell_type": "code",
      "execution_count": 142,
      "id": "80defb23-bfb1-4a18-8be6-bf36aa7165d5",
      "metadata": {
        "id": "80defb23-bfb1-4a18-8be6-bf36aa7165d5"
      },
      "outputs": [],
      "source": [
        "query_5_4 = f'''\n",
        "            SELECT\n",
        "                COUNT(e.id) cnt_employers\n",
        "            FROM employers e\n",
        "            LEFT JOIN employers_industries ei ON ei.employer_id = e.id\n",
        "            WHERE ei.employer_id IS NULL\n",
        "'''"
      ]
    },
    {
      "cell_type": "code",
      "execution_count": 63,
      "id": "Dp_yCx6ysQSu",
      "metadata": {
        "id": "Dp_yCx6ysQSu"
      },
      "outputs": [
        {
          "name": "stdout",
          "output_type": "stream",
          "text": [
            "Количество работодателей, у которых не указана сфера деятельности - 8419.\n"
          ]
        }
      ],
      "source": [
        "df = pd.read_sql_query(query_5_4, connection)\n",
        "print(f\"Количество работодателей, у которых не указана сфера деятельности - {df['cnt_employers'].iloc[0]}.\")"
      ]
    },
    {
      "cell_type": "markdown",
      "id": "0112af31-f6b0-4e3b-82ab-71296e752e5e",
      "metadata": {
        "id": "0112af31-f6b0-4e3b-82ab-71296e752e5e"
      },
      "source": [
        "5. Напишите запрос, чтобы узнать название компании, находящейся на третьем месте в алфавитном списке (по названию) компаний, у которых указано четыре сферы деятельности. "
      ]
    },
    {
      "cell_type": "code",
      "execution_count": 143,
      "id": "973b0cfc-a972-470a-8b4a-68744ef220c4",
      "metadata": {
        "id": "973b0cfc-a972-470a-8b4a-68744ef220c4"
      },
      "outputs": [],
      "source": [
        "query_5_5 = f'''\n",
        "            SELECT\n",
        "                e.name \n",
        "            FROM employers e\n",
        "            LEFT JOIN employers_industries ei ON ei.employer_id = e.id\n",
        "            GROUP BY 1\n",
        "            HAVING COUNT(ei.industry_id ) = 4\n",
        "            ORDER BY 1\n",
        "            OFFSET 2 LIMIT 1\n",
        "'''"
      ]
    },
    {
      "cell_type": "code",
      "execution_count": 144,
      "id": "xsPtpp8EsaED",
      "metadata": {
        "id": "xsPtpp8EsaED"
      },
      "outputs": [
        {
          "name": "stdout",
          "output_type": "stream",
          "text": [
            "Компания 2ГИС находится на третьем месте среди компаний, у которых указано четыре сферы деятельности.\n"
          ]
        }
      ],
      "source": [
        "df = pd.read_sql_query(query_5_5, connection)\n",
        "print(f\"Компания {df['name'].iloc[0]} находится на третьем месте среди компаний, у которых указано четыре сферы деятельности.\")"
      ]
    },
    {
      "cell_type": "markdown",
      "id": "3bfcfdaf-755d-4d2b-8ed8-326201dc07ab",
      "metadata": {
        "id": "3bfcfdaf-755d-4d2b-8ed8-326201dc07ab"
      },
      "source": [
        "6. С помощью запроса выясните, у какого количества работодателей в качестве сферы деятельности указана Разработка программного обеспечения.\n"
      ]
    },
    {
      "cell_type": "code",
      "execution_count": 145,
      "id": "ad3f270f-2991-47eb-929b-e8f88a55b0d1",
      "metadata": {
        "id": "ad3f270f-2991-47eb-929b-e8f88a55b0d1"
      },
      "outputs": [],
      "source": [
        "query_5_6 = f'''\n",
        "            SELECT\n",
        "                COUNT(ei.employer_id)\n",
        "            FROM employers_industries ei\n",
        "            LEFT JOIN industries i ON ei.industry_id = i.id\n",
        "            WHERE i.name LIKE '%Разработка программного обеспечени%'\n",
        "'''"
      ]
    },
    {
      "cell_type": "code",
      "execution_count": 146,
      "id": "H72qxWM0shPR",
      "metadata": {
        "id": "H72qxWM0shPR"
      },
      "outputs": [
        {
          "name": "stdout",
          "output_type": "stream",
          "text": [
            "У 3553 работодателей в качестве сферы деятельности указана 'Разработка программного обеспечения'.\n"
          ]
        }
      ],
      "source": [
        "df = pd.read_sql_query(query_5_6, connection)\n",
        "print(f\"У {df['count'].iloc[0]} работодателей в качестве сферы деятельности указана 'Разработка программного обеспечения'.\")"
      ]
    },
    {
      "attachments": {},
      "cell_type": "markdown",
      "id": "7b02bb86-0546-40fb-94a4-242f050a5c57",
      "metadata": {
        "id": "7b02bb86-0546-40fb-94a4-242f050a5c57"
      },
      "source": [
        "7. Для компании «Яндекс» выведите список регионов-миллионников, в которых представлены вакансии компании, вместе с количеством вакансий в этих регионах. Также добавьте строку Total с общим количеством вакансий компании. Результат отсортируйте по возрастанию количества.\n",
        "\n",
        "Список городов-милионников надо взять [отсюда](https://ru.wikipedia.org/wiki/%D0%93%D0%BE%D1%80%D0%BE%D0%B4%D0%B0-%D0%BC%D0%B8%D0%BB%D0%BB%D0%B8%D0%BE%D0%BD%D0%B5%D1%80%D1%8B_%D0%A0%D0%BE%D1%81%D1%81%D0%B8%D0%B8). \n"
      ]
    },
    {
      "cell_type": "code",
      "execution_count": 147,
      "id": "08594771",
      "metadata": {},
      "outputs": [
        {
          "data": {
            "text/plain": [
              "['Москва',\n",
              " 'Санкт-Петербург',\n",
              " 'Новосибирск',\n",
              " 'Екатеринбург',\n",
              " 'Казань',\n",
              " 'Нижний Новгород',\n",
              " 'Челябинск',\n",
              " 'Красноярск',\n",
              " 'Самара',\n",
              " 'Уфа',\n",
              " 'Ростов-на-Дону',\n",
              " 'Омск',\n",
              " 'Краснодар',\n",
              " 'Воронеж',\n",
              " 'Пермь',\n",
              " 'Волгоград']"
            ]
          },
          "execution_count": 147,
          "metadata": {},
          "output_type": "execute_result"
        }
      ],
      "source": [
        "path_common = req.urlparse('https://ru.wikipedia.org/wiki/Города-миллионеры_России#Список_городов-миллионеров')\n",
        "url = path_common.scheme + '://' + req.quote(path_common.netloc) +  req.quote(path_common.path) + '#'+ req.quote(path_common.fragment)\n",
        "df = pd.read_html(url)[1]\n",
        "cities = df['Город'].to_list()\n",
        "cities[13] = 'Воронеж'\n",
        "cities\n"
      ]
    },
    {
      "cell_type": "code",
      "execution_count": 148,
      "id": "5a0e32a4-e68a-4365-8a39-2fe24c542c36",
      "metadata": {
        "id": "5a0e32a4-e68a-4365-8a39-2fe24c542c36"
      },
      "outputs": [],
      "source": [
        "query_5_7 = f'''\n",
        "            (SELECT\n",
        "                a.name region,\n",
        "                COUNT(v.id)\n",
        "            FROM vacancies v\n",
        "            JOIN employers e ON v.employer_id = e.id\n",
        "            JOIN areas a ON a.id = v.area_id\n",
        "            WHERE e.name = 'Яндекс'\n",
        "                AND a.name in {tuple(cities)}\n",
        "            GROUP BY 1\n",
        "            ORDER BY 2 DESC\n",
        "            )\n",
        "            \n",
        "            UNION ALL\n",
        "            \n",
        "            (SELECT \n",
        "                'total', \n",
        "                COUNT(*)\n",
        "            FROM vacancies v\n",
        "            JOIN employers e ON v.employer_id = e.id\n",
        "            JOIN areas a ON a.id = v.area_id\n",
        "            WHERE e.name = 'Яндекс'\n",
        "                AND a.name in {tuple(cities)}\n",
        "            )\n",
        "'''"
      ]
    },
    {
      "cell_type": "code",
      "execution_count": 149,
      "id": "ttPhiO1rsvPq",
      "metadata": {
        "id": "ttPhiO1rsvPq"
      },
      "outputs": [
        {
          "data": {
            "text/html": [
              "<div>\n",
              "<style scoped>\n",
              "    .dataframe tbody tr th:only-of-type {\n",
              "        vertical-align: middle;\n",
              "    }\n",
              "\n",
              "    .dataframe tbody tr th {\n",
              "        vertical-align: top;\n",
              "    }\n",
              "\n",
              "    .dataframe thead th {\n",
              "        text-align: right;\n",
              "    }\n",
              "</style>\n",
              "<table border=\"1\" class=\"dataframe\">\n",
              "  <thead>\n",
              "    <tr style=\"text-align: right;\">\n",
              "      <th></th>\n",
              "      <th>region</th>\n",
              "      <th>count</th>\n",
              "    </tr>\n",
              "  </thead>\n",
              "  <tbody>\n",
              "    <tr>\n",
              "      <th>0</th>\n",
              "      <td>total</td>\n",
              "      <td>485</td>\n",
              "    </tr>\n",
              "    <tr>\n",
              "      <th>1</th>\n",
              "      <td>Москва</td>\n",
              "      <td>54</td>\n",
              "    </tr>\n",
              "    <tr>\n",
              "      <th>2</th>\n",
              "      <td>Санкт-Петербург</td>\n",
              "      <td>42</td>\n",
              "    </tr>\n",
              "    <tr>\n",
              "      <th>3</th>\n",
              "      <td>Екатеринбург</td>\n",
              "      <td>39</td>\n",
              "    </tr>\n",
              "    <tr>\n",
              "      <th>4</th>\n",
              "      <td>Нижний Новгород</td>\n",
              "      <td>36</td>\n",
              "    </tr>\n",
              "    <tr>\n",
              "      <th>5</th>\n",
              "      <td>Новосибирск</td>\n",
              "      <td>35</td>\n",
              "    </tr>\n",
              "    <tr>\n",
              "      <th>6</th>\n",
              "      <td>Воронеж</td>\n",
              "      <td>32</td>\n",
              "    </tr>\n",
              "    <tr>\n",
              "      <th>7</th>\n",
              "      <td>Краснодар</td>\n",
              "      <td>30</td>\n",
              "    </tr>\n",
              "    <tr>\n",
              "      <th>8</th>\n",
              "      <td>Самара</td>\n",
              "      <td>26</td>\n",
              "    </tr>\n",
              "    <tr>\n",
              "      <th>9</th>\n",
              "      <td>Уфа</td>\n",
              "      <td>26</td>\n",
              "    </tr>\n",
              "    <tr>\n",
              "      <th>10</th>\n",
              "      <td>Казань</td>\n",
              "      <td>25</td>\n",
              "    </tr>\n",
              "    <tr>\n",
              "      <th>11</th>\n",
              "      <td>Пермь</td>\n",
              "      <td>25</td>\n",
              "    </tr>\n",
              "    <tr>\n",
              "      <th>12</th>\n",
              "      <td>Ростов-на-Дону</td>\n",
              "      <td>25</td>\n",
              "    </tr>\n",
              "    <tr>\n",
              "      <th>13</th>\n",
              "      <td>Волгоград</td>\n",
              "      <td>24</td>\n",
              "    </tr>\n",
              "    <tr>\n",
              "      <th>14</th>\n",
              "      <td>Красноярск</td>\n",
              "      <td>23</td>\n",
              "    </tr>\n",
              "    <tr>\n",
              "      <th>15</th>\n",
              "      <td>Челябинск</td>\n",
              "      <td>22</td>\n",
              "    </tr>\n",
              "    <tr>\n",
              "      <th>16</th>\n",
              "      <td>Омск</td>\n",
              "      <td>21</td>\n",
              "    </tr>\n",
              "  </tbody>\n",
              "</table>\n",
              "</div>"
            ],
            "text/plain": [
              "             region  count\n",
              "0             total    485\n",
              "1            Москва     54\n",
              "2   Санкт-Петербург     42\n",
              "3      Екатеринбург     39\n",
              "4   Нижний Новгород     36\n",
              "5       Новосибирск     35\n",
              "6           Воронеж     32\n",
              "7         Краснодар     30\n",
              "8            Самара     26\n",
              "9               Уфа     26\n",
              "10           Казань     25\n",
              "11            Пермь     25\n",
              "12   Ростов-на-Дону     25\n",
              "13        Волгоград     24\n",
              "14       Красноярск     23\n",
              "15        Челябинск     22\n",
              "16             Омск     21"
            ]
          },
          "execution_count": 149,
          "metadata": {},
          "output_type": "execute_result"
        }
      ],
      "source": [
        "df = pd.read_sql_query(query_5_7, connection)\n",
        "df"
      ]
    },
    {
      "cell_type": "code",
      "execution_count": 150,
      "id": "612c24b2",
      "metadata": {},
      "outputs": [
        {
          "data": {
            "image/png": "[encoded data removed]",
            "text/plain": [
              "<Figure size 900x600 with 1 Axes>"
            ]
          },
          "metadata": {},
          "output_type": "display_data"
        }
      ],
      "source": [
        "fig = plt.figure(figsize = (9, 6))\n",
        "\n",
        "barplot = sns.barplot(data=df, x=\"count\", y=\"region\")\n",
        "\n",
        "barplot.set_title('Регионы-миллионники по количеству вакансий для компании \"Яндекс\"')\n",
        "barplot.bar_label(barplot.containers[0])\n",
        "barplot.set (xlabel='Количество вакансий', ylabel='Регион');"
      ]
    },
    {
      "cell_type": "markdown",
      "id": "04966e40-3bc3-4dc8-9ba2-e80580ce3abc",
      "metadata": {
        "id": "04966e40-3bc3-4dc8-9ba2-e80580ce3abc"
      },
      "source": [
        "***"
      ]
    },
    {
      "attachments": {},
      "cell_type": "markdown",
      "id": "b2a817ed",
      "metadata": {},
      "source": [
        "ВЫВОДЫ:\n",
        "* На первых местах находятся крупные компании, с большим штатом сотрудников, поэтому среди них и большее количество предлагаемых вакансий.\n",
        "* Крупные компании, такие как \"Яндекс\", \"Ростелеком\" и тд., публикуют большинство своих вакансий в различных регионах, что указывает на широкий охват географической области деятельности.\n",
        "* Только у 15% среди всех работодателей в качестве сферы деятельности указана \"Разработка программного обеспечния\".\n",
        "* Для компании \"Яндекс\" среди городов-миллионников в общем количестве представлено 485 вакансий. Большинство вакансий приходится на крупные города - Москва, Санкт-Петербург и Екатеринбург, затем количество постепенно уменьшается и в среднем приходится около 25 вакансии на каждый город."
      ]
    },
    {
      "cell_type": "markdown",
      "id": "b1ef156a-efcb-49ce-bb23-90763e7f35b2",
      "metadata": {
        "id": "b1ef156a-efcb-49ce-bb23-90763e7f35b2",
        "tags": []
      },
      "source": [
        "# Юнит 6. Предметный анализ"
      ]
    },
    {
      "cell_type": "markdown",
      "id": "b9cd50a0-992d-4988-8463-2b2b1c4629b4",
      "metadata": {
        "id": "b9cd50a0-992d-4988-8463-2b2b1c4629b4"
      },
      "source": [
        "1. Сколько вакансий имеет отношение к данным?\n",
        "\n",
        "Считаем, что вакансия имеет отношение к данным, если в её названии содержатся слова 'data' или 'данн'.\n",
        "\n",
        "*Подсказка: Обратите внимание, что названия вакансий могут быть написаны в любом регистре.* \n"
      ]
    },
    {
      "cell_type": "code",
      "execution_count": 151,
      "id": "54ab0e50-c0f1-47cc-a54b-bc5c8bc363f9",
      "metadata": {
        "id": "54ab0e50-c0f1-47cc-a54b-bc5c8bc363f9"
      },
      "outputs": [],
      "source": [
        "query_6_1 = f'''\n",
        "            SELECT\n",
        "                COUNT(*)\n",
        "            FROM vacancies\n",
        "            WHERE LOWER(name) LIKE '%data%' \n",
        "                OR LOWER(name) LIKE '%данн%'    \n",
        "'''"
      ]
    },
    {
      "cell_type": "code",
      "execution_count": 152,
      "id": "9F1meAqsuUjd",
      "metadata": {
        "id": "9F1meAqsuUjd"
      },
      "outputs": [
        {
          "name": "stdout",
          "output_type": "stream",
          "text": [
            "В таблице Vacancies 1771 вакансия имеет отношение к данным с содержаением слов 'data' и 'данн'.\n"
          ]
        }
      ],
      "source": [
        "df = pd.read_sql_query(query_6_1, connection)\n",
        "print(f\"В таблице Vacancies {df['count'].iloc[0]} вакансия имеет отношение к данным с содержаением слов 'data' и 'данн'.\")"
      ]
    },
    {
      "cell_type": "markdown",
      "id": "4dea20cb-a36b-474a-a0b9-e08e8e3857a5",
      "metadata": {
        "id": "4dea20cb-a36b-474a-a0b9-e08e8e3857a5"
      },
      "source": [
        "2. Сколько есть подходящих вакансий для начинающего дата-сайентиста? \n",
        "Будем считать вакансиями для дата-сайентистов такие, в названии которых есть хотя бы одно из следующих сочетаний:\n",
        "* 'data scientist'\n",
        "* 'data science'\n",
        "* 'исследователь данных'\n",
        "* 'ML' (здесь не нужно брать вакансии по HTML)\n",
        "* 'machine learning'\n",
        "* 'машинн%обучен%'\n",
        "\n",
        "** В следующих заданиях мы продолжим работать с вакансиями по этому условию.*\n",
        "\n",
        "Считаем вакансиями для специалистов уровня Junior следующие:\n",
        "* в названии есть слово 'junior' *или*\n",
        "* требуемый опыт — Нет опыта *или*\n",
        "* тип трудоустройства — Стажировка.\n",
        " "
      ]
    },
    {
      "cell_type": "code",
      "execution_count": 153,
      "id": "9c61b3c0-bb66-46c9-ae1e-81d3f5752b4a",
      "metadata": {
        "id": "9c61b3c0-bb66-46c9-ae1e-81d3f5752b4a"
      },
      "outputs": [],
      "source": [
        "query_6_2 = f'''\n",
        "            SELECT\n",
        "                COUNT(*)\n",
        "            FROM vacancies\n",
        "            WHERE \n",
        "                (LOWER(name) LIKE '%data scientist%'\n",
        "                OR LOWER(name) LIKE '%data science%'\n",
        "                OR LOWER(name) LIKE '%исследователь данных%'\n",
        "                OR (name LIKE '%ML%' \n",
        "                    AND name NOT LIKE '%HTML%')\n",
        "                OR LOWER(name) LIKE '%machine learning%'\n",
        "                OR LOWER(name) LIKE '%машинн%обучен%')\n",
        "            AND \n",
        "                (LOWER(name) LIKE '%junior%'\n",
        "                OR experience = 'Нет опыта'\n",
        "                OR employment = 'Стажировка')\n",
        "'''"
      ]
    },
    {
      "cell_type": "code",
      "execution_count": 154,
      "id": "ZNM-LLYuu1dj",
      "metadata": {
        "id": "ZNM-LLYuu1dj"
      },
      "outputs": [
        {
          "name": "stdout",
          "output_type": "stream",
          "text": [
            "В таблице Vacancies 51 вакансия для начинающих дата-сайентистов.\n"
          ]
        }
      ],
      "source": [
        "df = pd.read_sql_query(query_6_2, connection)\n",
        "print(f\"В таблице Vacancies {df['count'].iloc[0]} вакансия для начинающих дата-сайентистов.\")"
      ]
    },
    {
      "cell_type": "markdown",
      "id": "eedceb80-c5ca-480e-b27a-278dfb8b4438",
      "metadata": {
        "id": "eedceb80-c5ca-480e-b27a-278dfb8b4438"
      },
      "source": [
        "3. Сколько есть вакансий для DS, в которых в качестве ключевого навыка указан SQL или postgres?\n",
        "\n",
        "** Критерии для отнесения вакансии к DS указаны в предыдущем задании.*"
      ]
    },
    {
      "cell_type": "code",
      "execution_count": 155,
      "id": "69621713-0cc5-4f1b-a1d7-bb144fa6148c",
      "metadata": {
        "id": "69621713-0cc5-4f1b-a1d7-bb144fa6148c"
      },
      "outputs": [],
      "source": [
        "query_6_3 = f'''\n",
        "            SELECT\n",
        "                COUNT(*)\n",
        "            FROM vacancies\n",
        "            WHERE \n",
        "                (LOWER(name) LIKE '%data scientist%'\n",
        "                OR LOWER(name) LIKE '%data science%'\n",
        "                OR LOWER(name) LIKE '%исследователь данных%'\n",
        "                OR (name LIKE '%ML%' \n",
        "                    AND name NOT LIKE '%HTML%')\n",
        "                OR LOWER(name) LIKE '%machine learning%'\n",
        "                OR LOWER(name) LIKE '%машинн%обучен%')\n",
        "            AND \n",
        "                (LOWER(key_skills) LIKE '%sql%'\n",
        "                OR LOWER(key_skills) LIKE '%postgre%')\n",
        "'''"
      ]
    },
    {
      "cell_type": "code",
      "execution_count": 80,
      "id": "alA8WEAAvGdf",
      "metadata": {
        "id": "alA8WEAAvGdf"
      },
      "outputs": [
        {
          "name": "stdout",
          "output_type": "stream",
          "text": [
            "В таблице Vacancies 201 вакансия для DS, в которых в качестве ключевого слова указан SQL или Postgres.\n"
          ]
        }
      ],
      "source": [
        "df = pd.read_sql_query(query_6_3, connection)\n",
        "print(f\"В таблице Vacancies {df['count'].iloc[0]} вакансия для DS, в которых в качестве ключевого слова указан SQL или Postgres.\")"
      ]
    },
    {
      "cell_type": "markdown",
      "id": "1be1e9c6-37cf-4a5f-bfeb-04cab799dc80",
      "metadata": {
        "id": "1be1e9c6-37cf-4a5f-bfeb-04cab799dc80"
      },
      "source": [
        "4. Проверьте, насколько популярен Python в требованиях работодателей к DS.Для этого вычислите количество вакансий, в которых в качестве ключевого навыка указан Python.\n",
        "\n",
        "** Это можно сделать помощью запроса, аналогичного предыдущему.*"
      ]
    },
    {
      "cell_type": "code",
      "execution_count": 156,
      "id": "0036a355-9ccf-4564-8b01-73d8194297e7",
      "metadata": {
        "id": "0036a355-9ccf-4564-8b01-73d8194297e7"
      },
      "outputs": [],
      "source": [
        "query_6_4 = f'''\n",
        "            SELECT\n",
        "                COUNT(*)\n",
        "            FROM vacancies\n",
        "            WHERE \n",
        "                (LOWER(name) LIKE '%data scientist%'\n",
        "                OR LOWER(name) LIKE '%data science%'\n",
        "                OR LOWER(name) LIKE '%исследователь данных%'\n",
        "                OR (name LIKE '%ML%' \n",
        "                    AND name NOT LIKE '%HTML%')\n",
        "                OR LOWER(name) LIKE '%machine learning%'\n",
        "                OR LOWER(name) LIKE '%машинн%обучен%')\n",
        "            AND \n",
        "                LOWER(key_skills) LIKE '%python%'\n",
        "'''"
      ]
    },
    {
      "cell_type": "code",
      "execution_count": 157,
      "id": "1i-5WyucvQ6v",
      "metadata": {
        "id": "1i-5WyucvQ6v"
      },
      "outputs": [
        {
          "name": "stdout",
          "output_type": "stream",
          "text": [
            "В таблице Vacancies 351 вакансия для DS, в которых в качестве ключевого навыка указан Python.\n"
          ]
        }
      ],
      "source": [
        "df = pd.read_sql_query(query_6_4, connection)\n",
        "print(f\"В таблице Vacancies {df['count'].iloc[0]} вакансия для DS, в которых в качестве ключевого навыка указан Python.\")"
      ]
    },
    {
      "cell_type": "markdown",
      "id": "ec3c8db7-fa21-4a41-a994-1af63742a642",
      "metadata": {
        "id": "ec3c8db7-fa21-4a41-a994-1af63742a642"
      },
      "source": [
        "5. Сколько ключевых навыков в среднем указывают в вакансиях для DS?\n",
        "Ответ округлите до двух знаков после точки-разделителя."
      ]
    },
    {
      "cell_type": "code",
      "execution_count": 158,
      "id": "949132bc-d5b6-4611-8218-0b9a504d74f4",
      "metadata": {
        "id": "949132bc-d5b6-4611-8218-0b9a504d74f4"
      },
      "outputs": [],
      "source": [
        "query_6_5 = f'''\n",
        "            SELECT\n",
        "                ROUND(AVG(LENGTH(key_skills) - LENGTH(REPLACE(key_skills, CHR(9), '')) + 1), 2) avg_key_skills\n",
        "            FROM vacancies\n",
        "            WHERE \n",
        "                name ILIKE '%data scientist%'\n",
        "                OR name ILIKE '%data science%'\n",
        "                OR name ILIKE '%исследователь данных%'\n",
        "                OR (name LIKE '%ML%' \n",
        "                    AND name NOT ILIKE '%HTML%')\n",
        "                OR name ILIKE '%machine learning%'\n",
        "                OR name ILIKE '%машинн%обучен%'\n",
        "            AND \n",
        "                key_skills IS NOT NULL\n",
        "'''"
      ]
    },
    {
      "cell_type": "code",
      "execution_count": 160,
      "id": "a3V24Tvmviqk",
      "metadata": {
        "id": "a3V24Tvmviqk"
      },
      "outputs": [
        {
          "name": "stdout",
          "output_type": "stream",
          "text": [
            "В таблице Vacancies в среднем 6.41 вакансий для DS, в которых в качестве ключевого навыка указан Python.\n"
          ]
        }
      ],
      "source": [
        "df = pd.read_sql_query(query_6_5, connection)\n",
        "print(f\"В таблице Vacancies в среднем {df['avg_key_skills'].iloc[0]} вакансий для DS, в которых в качестве ключевого навыка указан Python.\")"
      ]
    },
    {
      "cell_type": "markdown",
      "id": "1041c17a-ca8f-4543-a0ca-32778914fb00",
      "metadata": {
        "id": "1041c17a-ca8f-4543-a0ca-32778914fb00"
      },
      "source": [
        "6. Напишите запрос, позволяющий вычислить, какую зарплату для DS в **среднем** указывают для каждого типа требуемого опыта (уникальное значение из поля *experience*). \n",
        "\n",
        "При решении задачи примите во внимание следующее:\n",
        "1. Рассматриваем только вакансии, у которых заполнено хотя бы одно из двух полей с зарплатой.\n",
        "2. Если заполнены оба поля с зарплатой, то считаем зарплату по каждой вакансии как сумму двух полей, делённую на 2. Если заполнено только одно из полей, то его и считаем зарплатой по вакансии.\n",
        "3. Если в расчётах участвует null, в результате он тоже даст null (посмотрите, что возвращает запрос select 1 + null). Чтобы избежать этой ситуацию, мы воспользуемся функцией [coalesce](https://postgrespro.ru/docs/postgresql/9.5/functions-conditional#functions-coalesce-nvl-ifnull), которая заменит null на значение, которое мы передадим. Например, посмотрите, что возвращает запрос `select 1 + coalesce(null, 0)`\n",
        "\n",
        "Выясните, на какую зарплату в среднем может рассчитывать дата-сайентист с опытом работы от 3 до 6 лет. Результат округлите до целого числа. "
      ]
    },
    {
      "cell_type": "code",
      "execution_count": 164,
      "id": "6a743d39-5204-48d3-8271-b9f88e68d40e",
      "metadata": {
        "id": "6a743d39-5204-48d3-8271-b9f88e68d40e"
      },
      "outputs": [],
      "source": [
        "query_6_6 = f'''\n",
        "            SELECT\n",
        "                AVG(COALESCE(\n",
        "                (salary_from + salary_to) / 2,\n",
        "                salary_from,\n",
        "                salary_to,\n",
        "                0\n",
        "                )\n",
        "                ) avg_salary\n",
        "            FROM vacancies\n",
        "            WHERE \n",
        "                (name ILIKE '%data scientist%'\n",
        "                OR name ILIKE '%data science%'\n",
        "                OR name ILIKE '%исследователь данных%'\n",
        "                OR (name LIKE '%ML%' \n",
        "                    AND name NOT LIKE '%HTML%')\n",
        "                OR name ILIKE '%machine learning%'\n",
        "                OR name ILIKE '%машинн%обучен%')\n",
        "            AND \n",
        "                (salary_from IS NOT NULL \n",
        "                OR salary_to IS NOT NULL)\n",
        "            AND  \n",
        "                experience = 'От 3 до 6 лет'\n",
        "            \n",
        "'''"
      ]
    },
    {
      "cell_type": "code",
      "execution_count": 165,
      "id": "aRIJ0mZEwU1_",
      "metadata": {
        "id": "aRIJ0mZEwU1_"
      },
      "outputs": [
        {
          "name": "stdout",
          "output_type": "stream",
          "text": [
            "Дата-сайентист с опытом работы от 3 до 6 лет в среднем может рассчитывать на зарплату 243115 рублей.\n"
          ]
        }
      ],
      "source": [
        "df = pd.read_sql_query(query_6_6, connection)\n",
        "print(f\"Дата-сайентист с опытом работы от 3 до 6 лет в среднем может рассчитывать на зарплату {round(df['avg_salary'].iloc[0])} рублей.\")"
      ]
    },
    {
      "cell_type": "markdown",
      "id": "6a7892b4-4113-4746-adce-18aa2844f18e",
      "metadata": {
        "id": "6a7892b4-4113-4746-adce-18aa2844f18e"
      },
      "source": [
        "***"
      ]
    },
    {
      "attachments": {},
      "cell_type": "markdown",
      "id": "9c60d039",
      "metadata": {},
      "source": [
        "ВЫВОДЫ:\n",
        "* Процент вакансий для начинающего дата-сайентиста очень мал - 0.1%\n",
        "* Процент вакансий для DS со знанием SQL и Postgres - 0.41%\n",
        "* Процент вакансий для DS со знанием Python - 0.71%\n",
        "* Среднее количество ключевых навыков вакансий для DS - 6.41"
      ]
    },
    {
      "cell_type": "markdown",
      "id": "c0ED6fh7wiBT",
      "metadata": {
        "id": "c0ED6fh7wiBT"
      },
      "source": [
        "# Общий вывод по проекту"
      ]
    },
    {
      "attachments": {},
      "cell_type": "markdown",
      "id": "cdfcd49d",
      "metadata": {},
      "source": [
        "### Дополнительные исследования данных"
      ]
    },
    {
      "attachments": {},
      "cell_type": "markdown",
      "metadata": {},
      "source": [
        "1. Запрос, позволяющий вычислить, какую зарплату для DS в **среднем** указывают для каждого типа требуемого опыта."
      ]
    },
    {
      "cell_type": "code",
      "execution_count": 166,
      "id": "2c80e8d0",
      "metadata": {},
      "outputs": [],
      "source": [
        "query_7_1 = f'''\n",
        "            SELECT\n",
        "                experience,\n",
        "                COUNT(*),\n",
        "                ROUND(AVG(COALESCE(\n",
        "                (salary_from + salary_to) / 2,\n",
        "                salary_from,\n",
        "                salary_to,\n",
        "                0\n",
        "                    )\n",
        "                ), 0) avg_salary\n",
        "            FROM vacancies\n",
        "            WHERE \n",
        "                (name ILIKE '%data scientist%'\n",
        "                OR name ILIKE '%data science%'\n",
        "                OR name ILIKE '%исследователь данных%'\n",
        "                OR (name LIKE '%ML%' \n",
        "                    AND name NOT LIKE '%HTML%')\n",
        "                OR name ILIKE '%machine learning%'\n",
        "                OR name ILIKE '%машинн%обучен%')\n",
        "            AND \n",
        "                (salary_from IS NOT NULL \n",
        "                OR salary_to IS NOT NULL)\n",
        "            GROUP BY 1     \n",
        "'''"
      ]
    },
    {
      "cell_type": "code",
      "execution_count": 167,
      "id": "4c6a06af",
      "metadata": {},
      "outputs": [
        {
          "data": {
            "text/html": [
              "<div>\n",
              "<style scoped>\n",
              "    .dataframe tbody tr th:only-of-type {\n",
              "        vertical-align: middle;\n",
              "    }\n",
              "\n",
              "    .dataframe tbody tr th {\n",
              "        vertical-align: top;\n",
              "    }\n",
              "\n",
              "    .dataframe thead th {\n",
              "        text-align: right;\n",
              "    }\n",
              "</style>\n",
              "<table border=\"1\" class=\"dataframe\">\n",
              "  <thead>\n",
              "    <tr style=\"text-align: right;\">\n",
              "      <th></th>\n",
              "      <th>experience</th>\n",
              "      <th>count</th>\n",
              "      <th>avg_salary</th>\n",
              "    </tr>\n",
              "  </thead>\n",
              "  <tbody>\n",
              "    <tr>\n",
              "      <th>0</th>\n",
              "      <td>Нет опыта</td>\n",
              "      <td>7</td>\n",
              "      <td>74643.0</td>\n",
              "    </tr>\n",
              "    <tr>\n",
              "      <th>1</th>\n",
              "      <td>От 1 года до 3 лет</td>\n",
              "      <td>28</td>\n",
              "      <td>139675.0</td>\n",
              "    </tr>\n",
              "    <tr>\n",
              "      <th>2</th>\n",
              "      <td>От 3 до 6 лет</td>\n",
              "      <td>27</td>\n",
              "      <td>243115.0</td>\n",
              "    </tr>\n",
              "  </tbody>\n",
              "</table>\n",
              "</div>"
            ],
            "text/plain": [
              "           experience  count  avg_salary\n",
              "0           Нет опыта      7     74643.0\n",
              "1  От 1 года до 3 лет     28    139675.0\n",
              "2       От 3 до 6 лет     27    243115.0"
            ]
          },
          "execution_count": 167,
          "metadata": {},
          "output_type": "execute_result"
        }
      ],
      "source": [
        "df = pd.read_sql_query(query_7_1, connection)\n",
        "df"
      ]
    },
    {
      "cell_type": "code",
      "execution_count": 168,
      "id": "287daa4b",
      "metadata": {},
      "outputs": [
        {
          "data": {
            "image/png": "[encoded data removed]",
            "text/plain": [
              "<Figure size 900x600 with 1 Axes>"
            ]
          },
          "metadata": {},
          "output_type": "display_data"
        }
      ],
      "source": [
        "fig = plt.figure(figsize = (9, 6))\n",
        "\n",
        "barplot = sns.barplot(\n",
        "    x=\"experience\", \n",
        "    y=\"avg_salary\", \n",
        "    hue=\"count\",  \n",
        "    data=df\n",
        ")\n",
        "\n",
        "barplot.set_title('Средняя зарплата для DS в зависимости от опыта работы')\n",
        "barplot.bar_label(barplot.containers[0])\n",
        "barplot.bar_label(barplot.containers[1])\n",
        "barplot.bar_label(barplot.containers[2])\n",
        "barplot.set (xlabel='Опыт', ylabel='Заработная плата');"
      ]
    },
    {
      "attachments": {},
      "cell_type": "markdown",
      "id": "ba095799",
      "metadata": {},
      "source": [
        "2. ТОП-10 самых популярных вакансий."
      ]
    },
    {
      "cell_type": "code",
      "execution_count": 169,
      "id": "582b9ae8",
      "metadata": {},
      "outputs": [],
      "source": [
        "query_7_2 = f'''\n",
        "            SELECT\n",
        "                name,\n",
        "                COUNT(*)\n",
        "            FROM vacancies\n",
        "            GROUP BY 1\n",
        "            ORDER BY 2 DESC\n",
        "            LIMIT 10\n",
        "'''"
      ]
    },
    {
      "cell_type": "code",
      "execution_count": 170,
      "id": "h9B3BL-wwj18",
      "metadata": {
        "id": "h9B3BL-wwj18"
      },
      "outputs": [
        {
          "data": {
            "text/html": [
              "<div>\n",
              "<style scoped>\n",
              "    .dataframe tbody tr th:only-of-type {\n",
              "        vertical-align: middle;\n",
              "    }\n",
              "\n",
              "    .dataframe tbody tr th {\n",
              "        vertical-align: top;\n",
              "    }\n",
              "\n",
              "    .dataframe thead th {\n",
              "        text-align: right;\n",
              "    }\n",
              "</style>\n",
              "<table border=\"1\" class=\"dataframe\">\n",
              "  <thead>\n",
              "    <tr style=\"text-align: right;\">\n",
              "      <th></th>\n",
              "      <th>name</th>\n",
              "      <th>count</th>\n",
              "    </tr>\n",
              "  </thead>\n",
              "  <tbody>\n",
              "    <tr>\n",
              "      <th>0</th>\n",
              "      <td>Системный администратор</td>\n",
              "      <td>1761</td>\n",
              "    </tr>\n",
              "    <tr>\n",
              "      <th>1</th>\n",
              "      <td>Программист 1С</td>\n",
              "      <td>1153</td>\n",
              "    </tr>\n",
              "    <tr>\n",
              "      <th>2</th>\n",
              "      <td>Бизнес-аналитик</td>\n",
              "      <td>488</td>\n",
              "    </tr>\n",
              "    <tr>\n",
              "      <th>3</th>\n",
              "      <td>Специалист технической поддержки</td>\n",
              "      <td>457</td>\n",
              "    </tr>\n",
              "    <tr>\n",
              "      <th>4</th>\n",
              "      <td>Системный аналитик</td>\n",
              "      <td>432</td>\n",
              "    </tr>\n",
              "    <tr>\n",
              "      <th>5</th>\n",
              "      <td>Аналитик</td>\n",
              "      <td>404</td>\n",
              "    </tr>\n",
              "    <tr>\n",
              "      <th>6</th>\n",
              "      <td>Инженер-программист</td>\n",
              "      <td>389</td>\n",
              "    </tr>\n",
              "    <tr>\n",
              "      <th>7</th>\n",
              "      <td>Программист 1C</td>\n",
              "      <td>360</td>\n",
              "    </tr>\n",
              "    <tr>\n",
              "      <th>8</th>\n",
              "      <td>Frontend-разработчик</td>\n",
              "      <td>242</td>\n",
              "    </tr>\n",
              "    <tr>\n",
              "      <th>9</th>\n",
              "      <td>Инженер технической поддержки</td>\n",
              "      <td>230</td>\n",
              "    </tr>\n",
              "  </tbody>\n",
              "</table>\n",
              "</div>"
            ],
            "text/plain": [
              "                               name  count\n",
              "0           Системный администратор   1761\n",
              "1                    Программист 1С   1153\n",
              "2                   Бизнес-аналитик    488\n",
              "3  Специалист технической поддержки    457\n",
              "4                Системный аналитик    432\n",
              "5                          Аналитик    404\n",
              "6               Инженер-программист    389\n",
              "7                    Программист 1C    360\n",
              "8              Frontend-разработчик    242\n",
              "9     Инженер технической поддержки    230"
            ]
          },
          "execution_count": 170,
          "metadata": {},
          "output_type": "execute_result"
        }
      ],
      "source": [
        "df = pd.read_sql_query(query_7_2, connection)\n",
        "df"
      ]
    },
    {
      "cell_type": "code",
      "execution_count": 171,
      "id": "87be870f",
      "metadata": {},
      "outputs": [
        {
          "data": {
            "image/png": "[encoded data removed]",
            "text/plain": [
              "<Figure size 900x600 with 1 Axes>"
            ]
          },
          "metadata": {},
          "output_type": "display_data"
        }
      ],
      "source": [
        "fig = plt.figure(figsize = (9, 6))\n",
        "\n",
        "barplot = sns.barplot(\n",
        "    x=\"count\", \n",
        "    y=\"name\", \n",
        "    hue=\"count\",  \n",
        "    data=df\n",
        ")\n",
        "\n",
        "barplot.set_title('Средняя зарплата для DS в зависимости от опыта работы')\n",
        "barplot.set (xlabel='Количество вакансий', ylabel='Вакансия');"
      ]
    },
    {
      "attachments": {},
      "cell_type": "markdown",
      "id": "17a2893a",
      "metadata": {},
      "source": [
        "ОБЩИЕ ВЫВОДЫ:\n",
        "* Как и ожидалось, чем выше опыт DS, тем выше его заработная плата. У специалиста со стажем от 3 до 6 лет заработная плата выше в 3 раза, чем у специалистов без опыта, но следует отметить быстрый рост у специалистов без опыта.\n",
        "* Самые популярные вакансии в сфере IT, что говорит о востребованности специалистов данного сектора. Также на сегодняшний день для ведения бизнеса в других направления крайне необходимы данные специалисты.\n",
        "* Также наибольшая заработная плата зависит от города, где предлагаются вакансии - чем крупнее город (города - миллионники), тем выше заработная плата среди специалистов."
      ]
    },
    {
      "cell_type": "code",
      "execution_count": 172,
      "id": "2d4c58b7",
      "metadata": {},
      "outputs": [],
      "source": [
        "connection.close()"
      ]
    }
  ],
  "metadata": {
    "colab": {
      "collapsed_sections": [
        "8d62a9f3-f64e-4fe7-bdac-c4dffa16155e"
      ],
      "provenance": []
    },
    "kernelspec": {
      "display_name": "Python 3",
      "language": "python",
      "name": "python3"
    },
    "language_info": {
      "codemirror_mode": {
        "name": "ipython",
        "version": 3
      },
      "file_extension": ".py",
      "mimetype": "text/x-python",
      "name": "python",
      "nbconvert_exporter": "python",
      "pygments_lexer": "ipython3",
      "version": "3.11.2"
    },
    "vscode": {
      "interpreter": {
        "hash": "b0fa6594d8f4cbf19f97940f81e996739fb7646882a419484c72d19e05852a7e"
      }
    }
  },
  "nbformat": 4,
  "nbformat_minor": 5
}
